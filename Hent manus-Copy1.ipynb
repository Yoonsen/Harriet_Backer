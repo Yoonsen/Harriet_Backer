{
 "cells": [
  {
   "cell_type": "markdown",
   "metadata": {},
   "source": [
    "# Hent bilder for Harriet Backer (eller andre)\n",
    "\n",
    "Bruker iiif-manifest, som gir alle bildene, sammen med search for bokhylla. Dataene fra den her notebooken er lagret til en fil (se nedenfor) så om det ikke endres noe kan dataene hentes fra den."
   ]
  },
  {
   "cell_type": "code",
   "execution_count": 10,
   "metadata": {},
   "outputs": [],
   "source": [
    "import dhlab.nbtext as nb\n",
    "import dhlab.module_update as mu\n",
    "import pandas as pd\n",
    "import json"
   ]
  },
  {
   "cell_type": "code",
   "execution_count": 11,
   "metadata": {},
   "outputs": [
    {
     "data": {
      "text/html": [
       "<style>@import url(\n",
       "http://fonts.googleapis.com/css?family=Lato|Philosopher|Montserrat|Source+Code+Pro|Istok+Web|Philosopher|Assistant:200,400,700);\n",
       "\n",
       "/*\n",
       "#notebook-container {\n",
       "\t-webkit-box-shadow: none;\n",
       "\tbox-shadow: none;\n",
       "}\n",
       "*/\n",
       "\n",
       "h1, h2, h3, h4, h5, h6 {\n",
       "\tfont-family: 'Montserrat', sans-serif;\n",
       "\tline-height: 2em;\n",
       "    color: #004f99;\n",
       "    font-weight: 600;\n",
       "}\n",
       "\n",
       "h1 { font-size: 4.5em; }\n",
       "h2 { font-size: 4em; }\n",
       "h3 { font-size: 3.5em; }\n",
       "h4 { font-size: 3em; }\n",
       "h5 { font-size: 2.5em; color:DarkSlateGray; }\n",
       "h6 { font-size: 2em; }\n",
       "\n",
       "p {\n",
       "\tfont-family: 'Assistant', sans-serif; \n",
       "\tfont-size: 1.2em;\n",
       "\tline-height: 1.4em;\n",
       "\tcolor: black;\n",
       "}\n",
       "p code {\n",
       "\tfont-size:0.9em;\n",
       "}\n",
       "div.input_area {\n",
       "\tborder:none !important;\n",
       "\tborder-left:1px solid #ff851b !important\n",
       "}\n",
       "\n",
       "span.cm-keyword {\n",
       "\tcolor:#339966 !important;\n",
       "}\n",
       "span.nn {  /*span.cm-variable, span.cm-property*/\n",
       "\tcolor: #3399ff !important;\n",
       "}\n",
       "div.CodeMirror {\n",
       "\tfont-family: 'Inconsolata', monospace;\n",
       "\tfont-size: 1.1em;\n",
       "\t\n",
       "}\n",
       "</style>"
      ],
      "text/plain": [
       "<IPython.core.display.HTML object>"
      ]
     },
     "execution_count": 11,
     "metadata": {},
     "output_type": "execute_result"
    }
   ],
   "source": [
    "mu.css()"
   ]
  },
  {
   "cell_type": "code",
   "execution_count": 12,
   "metadata": {},
   "outputs": [],
   "source": [
    "mu.update('nbpictures', silent=True)\n",
    "import nbpictures as pic"
   ]
  },
  {
   "cell_type": "code",
   "execution_count": 16,
   "metadata": {},
   "outputs": [],
   "source": [
    "import requests\n",
    "\n",
    "def super_search(term = '', creator = '', number = 50, page = 0, mediatype = 'bilder'):\n",
    "    \"\"\"Søk etter term og få ut json\"\"\"\n",
    "    \n",
    "    number = min(number, 50)\n",
    "    \n",
    "    filters = []\n",
    "    \n",
    "    params = {\n",
    "        'page':page, \n",
    "        'size':number\n",
    "    }\n",
    "    \n",
    "    if creator != '':\n",
    "        filters.append('creator:{c}'.format(c=creator))\n",
    "    \n",
    "    if mediatype != '':\n",
    "        filters.append('mediatype:{mediatype}'.format(mediatype=mediatype))\n",
    "    \n",
    "    if filters != []:\n",
    "        params['filter'] = filters\n",
    "    \n",
    "    if term != '':\n",
    "        params['q'] = term\n",
    "    \n",
    "    r = requests.get(\"https://api.nb.no:443/catalog/v1/items\", params = params)\n",
    "    return r.json()\n",
    "\n",
    "def find_urns_sesam(term = '', creator = '', number=50, page=0, mediatype='bilder'):\n",
    "    \"\"\"generates urls from super_search for pictures\"\"\"\n",
    "    x = super_search(term = term, creator = creator, number = number, page = page, mediatype=mediatype)\n",
    "    try:\n",
    "        sesamid =[\n",
    "            f['id']\n",
    "            for f in x['_embedded']['items'] \n",
    "            if f['accessInfo']['accessAllowedFrom'] == 'EVERYWHERE'\n",
    "            and 'thumbnail_custom' in f['_links']\n",
    "        ]\n",
    "    except:\n",
    "        sesamid = []\n",
    "    return sesamid"
   ]
  },
  {
   "cell_type": "code",
   "execution_count": 19,
   "metadata": {},
   "outputs": [
    {
     "data": {
      "text/plain": [
       "['d10a8b7e85766514b28cddc1d060fb33',\n",
       " '8c21355573e66a0c3d04d7e9f8bbd759',\n",
       " '30ee75168624a73624924202716403d3',\n",
       " 'aa5fde2b3322229037f390b2f0f0a402',\n",
       " 'd1a7d17240532df7733e70edbd8989c7',\n",
       " 'd51df917bb849f9356e695c4bf878136',\n",
       " '789720e43c0589e9a7d11e194c6a67b1',\n",
       " 'b23566895e8a430c8dc42484a11ac74e',\n",
       " '04d8a302a9d7dd3e469c4eae762d554d']"
      ]
     },
     "execution_count": 19,
     "metadata": {},
     "output_type": "execute_result"
    }
   ],
   "source": [
    "find_urns_sesam('',creator='hamsun', page=10, mediatype='privatarkivmateriale')"
   ]
  },
  {
   "cell_type": "markdown",
   "metadata": {},
   "source": [
    "Hent referanse til alle bildene. Funksjonen `find_urls` henter URLer. Fra dem peller vi ut URNene, og gir til `iiif_manifest`, som i sin tur gir alle bildene."
   ]
  },
  {
   "cell_type": "code",
   "execution_count": 33,
   "metadata": {},
   "outputs": [
    {
     "name": "stdout",
     "output_type": "stream",
     "text": [
      "14\n"
     ]
    }
   ],
   "source": [
    "urls = pic.find_urls('Harriet Backer', page=0, mediatype='privatarkivmateriale')\n",
    "for i in range(1,100):\n",
    "    t = pic.find_urls('Harriet Backer', page = i, mediatype = 'privatarkivmateriale')\n",
    "    if t == []:\n",
    "        print(i)\n",
    "        break\n",
    "    else:\n",
    "        urls += t\n"
   ]
  },
  {
   "cell_type": "markdown",
   "metadata": {},
   "source": [
    "Så hentes URNene fra listen over URLer"
   ]
  },
  {
   "cell_type": "code",
   "execution_count": 40,
   "metadata": {},
   "outputs": [],
   "source": [
    "urns = ['_'.join(url.split('/')[6].split('_')[:-1]) for url in urls]"
   ]
  },
  {
   "cell_type": "code",
   "execution_count": 42,
   "metadata": {},
   "outputs": [
    {
     "data": {
      "text/plain": [
       "['URN:NBN:no-nb_digimanus_326898',\n",
       " 'URN:NBN:no-nb_digimanus_81631',\n",
       " 'URN:NBN:no-nb_digimanus_321355']"
      ]
     },
     "execution_count": 42,
     "metadata": {},
     "output_type": "execute_result"
    }
   ],
   "source": [
    "urns[:3]"
   ]
  },
  {
   "cell_type": "markdown",
   "metadata": {},
   "source": [
    "Med `iiif_manifest` kommer metadata."
   ]
  },
  {
   "cell_type": "code",
   "execution_count": 70,
   "metadata": {},
   "outputs": [],
   "source": [
    "pages = dict()\n",
    "for urn in urns:\n",
    "    x = pic.iiif_manifest(urn)\n",
    "    pages[urn] = [page['images'][0]['resource']['@id'] for page in x['sequences'][0]['canvases']]"
   ]
  },
  {
   "cell_type": "markdown",
   "metadata": {},
   "source": [
    "Lagre bildene til fil som en json-struktur"
   ]
  },
  {
   "cell_type": "code",
   "execution_count": 87,
   "metadata": {},
   "outputs": [],
   "source": [
    "with open('bilder.json', 'w') as fp:\n",
    "    json.dump(pages, fp)"
   ]
  },
  {
   "cell_type": "markdown",
   "metadata": {},
   "source": [
    "## Filtrering av data med metadata\n",
    "\n",
    "For videre filtrering kan`iiif_manifest` kjøres på nøklene i bildefilen. Så her er `bilder` akkurat det samme som `pages`."
   ]
  },
  {
   "cell_type": "code",
   "execution_count": 89,
   "metadata": {},
   "outputs": [],
   "source": [
    "with open('bilder.json') as fp:\n",
    "    bilder = json.load(fp)"
   ]
  },
  {
   "cell_type": "code",
   "execution_count": 14,
   "metadata": {},
   "outputs": [
    {
     "data": {
      "text/plain": [
       "{'@context': 'http://iiif.io/api/presentation/2/context.json',\n",
       " '@type': 'sc:Manifest',\n",
       " '@id': 'https://api.nb.no/catalog/v1/iiif/f3b2df9cff5e6d1ab6e98380946d5561/manifest{?fields,profile}',\n",
       " 'label': 'Brevs. 130 Brev fra Hamsun, Knut (1859-1952) til Vetlesen, Thom (1856-1933)',\n",
       " 'metadata': [{'label': 'Tilgang',\n",
       "   'value': 'Kan kun åpnes i Nasjonalbibliotekets lokaler i Oslo'},\n",
       "  {'label': 'Tittel',\n",
       "   'value': 'Brevs. 130 Brev fra Hamsun, Knut (1859-1952) til Vetlesen, Thom (1856-1933)'},\n",
       "  {'label': 'Dato', 'value': '26.11.1920'},\n",
       "  {'label': 'Kilde for metadata', 'value': 'hanske.nb.no (51084)'},\n",
       "  {'label': 'Medietype', 'value': 'Brev og manuskripter'},\n",
       "  {'label': '',\n",
       "   'value': '<a href=\"https://www.nb.no/items/f3b2df9cff5e6d1ab6e98380946d5561?manifest=https://api.nb.no/catalog/v1/iiif/f3b2df9cff5e6d1ab6e98380946d5561/manifest\" target=\"_blank\"><img src=\"https://www.nb.no/content/uploads/2018/08/logo-iiif.png\" alt=\"IIIF Drag-n-drop\"></a>'}],\n",
       " 'license': 'https://www.nb.no/lisens/stromming',\n",
       " 'attribution': 'Det er kun tillatt å strømme dette materialet til privat bruk.'}"
      ]
     },
     "execution_count": 14,
     "metadata": {},
     "output_type": "execute_result"
    }
   ],
   "source": [
    "pic.iiif_manifest('f3b2df9cff5e6d1ab6e98380946d5561')"
   ]
  },
  {
   "cell_type": "code",
   "execution_count": 100,
   "metadata": {},
   "outputs": [],
   "source": [
    "pic.get_picture_from_url(bilder['URN:NBN:no-nb_digimanus_326898'][0]).save('t.jpg')"
   ]
  }
 ],
 "metadata": {
  "kernelspec": {
   "display_name": "Python 3",
   "language": "python",
   "name": "python3"
  },
  "language_info": {
   "codemirror_mode": {
    "name": "ipython",
    "version": 3
   },
   "file_extension": ".py",
   "mimetype": "text/x-python",
   "name": "python",
   "nbconvert_exporter": "python",
   "pygments_lexer": "ipython3",
   "version": "3.7.6"
  }
 },
 "nbformat": 4,
 "nbformat_minor": 4
}
