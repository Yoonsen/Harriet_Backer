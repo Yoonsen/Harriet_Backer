{
 "cells": [
  {
   "cell_type": "markdown",
   "metadata": {},
   "source": [
    "# Hent bilder for Harriet Backer (eller andre)\n",
    "\n",
    "Bruker iiif-manifest, som gir alle bildene, sammen med search for bokhylla. Dataene fra den her notebooken er lagret til en fil (se nedenfor) så om det ikke endres noe kan dataene hentes fra den."
   ]
  },
  {
   "cell_type": "code",
   "execution_count": 86,
   "metadata": {},
   "outputs": [],
   "source": [
    "import dhlab.nbtext as nb\n",
    "import dhlab.module_update as mu\n",
    "import pandas as pd\n",
    "import json"
   ]
  },
  {
   "cell_type": "code",
   "execution_count": 88,
   "metadata": {},
   "outputs": [
    {
     "data": {
      "text/html": [
       "<style>@import url(\n",
       "http://fonts.googleapis.com/css?family=Lato|Philosopher|Montserrat|Source+Code+Pro|Istok+Web|Philosopher|Assistant:200,400,700);\n",
       "\n",
       "/*\n",
       "#notebook-container {\n",
       "\t-webkit-box-shadow: none;\n",
       "\tbox-shadow: none;\n",
       "}\n",
       "*/\n",
       "\n",
       "h1, h2, h3, h4, h5, h6 {\n",
       "\tfont-family: 'Montserrat', sans-serif;\n",
       "\tline-height: 2em;\n",
       "    color: #004f99;\n",
       "    font-weight: 600;\n",
       "}\n",
       "\n",
       "h1 { font-size: 4.5em; }\n",
       "h2 { font-size: 4em; }\n",
       "h3 { font-size: 3.5em; }\n",
       "h4 { font-size: 3em; }\n",
       "h5 { font-size: 2.5em; color:DarkSlateGray; }\n",
       "h6 { font-size: 2em; }\n",
       "\n",
       "p {\n",
       "\tfont-family: 'Assistant', sans-serif; \n",
       "\tfont-size: 1.2em;\n",
       "\tline-height: 1.4em;\n",
       "\tcolor: black;\n",
       "}\n",
       "p code {\n",
       "\tfont-size:0.9em;\n",
       "}\n",
       "div.input_area {\n",
       "\tborder:none !important;\n",
       "\tborder-left:1px solid #ff851b !important\n",
       "}\n",
       "\n",
       "span.cm-keyword {\n",
       "\tcolor:#339966 !important;\n",
       "}\n",
       "span.nn {  /*span.cm-variable, span.cm-property*/\n",
       "\tcolor: #3399ff !important;\n",
       "}\n",
       "div.CodeMirror {\n",
       "\tfont-family: 'Inconsolata', monospace;\n",
       "\tfont-size: 1.1em;\n",
       "\t\n",
       "}\n",
       "</style>"
      ],
      "text/plain": [
       "<IPython.core.display.HTML object>"
      ]
     },
     "execution_count": 88,
     "metadata": {},
     "output_type": "execute_result"
    }
   ],
   "source": [
    "mu.css()"
   ]
  },
  {
   "cell_type": "code",
   "execution_count": 32,
   "metadata": {},
   "outputs": [],
   "source": [
    "mu.update('nbpictures', silent=True)\n",
    "import nbpictures as pic"
   ]
  },
  {
   "cell_type": "markdown",
   "metadata": {},
   "source": [
    "Hent referanse til alle bildene. Funksjonen `find_urls` henter URLer. Fra dem peller vi ut URNene, og gir til `iiif_manifest`, som i sin tur gir alle bildene."
   ]
  },
  {
   "cell_type": "code",
   "execution_count": 33,
   "metadata": {},
   "outputs": [
    {
     "name": "stdout",
     "output_type": "stream",
     "text": [
      "14\n"
     ]
    }
   ],
   "source": [
    "urls = pic.find_urls('Harriet Backer', page=0, mediatype='privatarkivmateriale')\n",
    "for i in range(1,100):\n",
    "    t = pic.find_urls('Harriet Backer', page = i, mediatype = 'privatarkivmateriale')\n",
    "    if t == []:\n",
    "        print(i)\n",
    "        break\n",
    "    else:\n",
    "        urls += t\n"
   ]
  },
  {
   "cell_type": "markdown",
   "metadata": {},
   "source": [
    "Så hentes URNene fra listen over URLer"
   ]
  },
  {
   "cell_type": "code",
   "execution_count": 40,
   "metadata": {},
   "outputs": [],
   "source": [
    "urns = ['_'.join(url.split('/')[6].split('_')[:-1]) for url in urls]"
   ]
  },
  {
   "cell_type": "code",
   "execution_count": 42,
   "metadata": {},
   "outputs": [
    {
     "data": {
      "text/plain": [
       "['URN:NBN:no-nb_digimanus_326898',\n",
       " 'URN:NBN:no-nb_digimanus_81631',\n",
       " 'URN:NBN:no-nb_digimanus_321355']"
      ]
     },
     "execution_count": 42,
     "metadata": {},
     "output_type": "execute_result"
    }
   ],
   "source": [
    "urns[:3]"
   ]
  },
  {
   "cell_type": "markdown",
   "metadata": {},
   "source": [
    "Med `iiif_manifest` kommer metadata."
   ]
  },
  {
   "cell_type": "code",
   "execution_count": 70,
   "metadata": {},
   "outputs": [],
   "source": [
    "pages = dict()\n",
    "for urn in urns:\n",
    "    x = pic.iiif_manifest(urn)\n",
    "    pages[urn] = [page['images'][0]['resource']['@id'] for page in x['sequences'][0]['canvases']]"
   ]
  },
  {
   "cell_type": "markdown",
   "metadata": {},
   "source": [
    "Lagre bildene til fil som en json-struktur"
   ]
  },
  {
   "cell_type": "code",
   "execution_count": 87,
   "metadata": {},
   "outputs": [],
   "source": [
    "with open('bilder.json', 'w') as fp:\n",
    "    json.dump(pages, fp)"
   ]
  },
  {
   "cell_type": "markdown",
   "metadata": {},
   "source": [
    "## Filtrering av data med metadata\n",
    "\n",
    "For videre filtrering kan`iiif_manifest` kjøres på nøklene i bildefilen. Så her er `bilder` akkurat det samme som `pages`."
   ]
  },
  {
   "cell_type": "code",
   "execution_count": 89,
   "metadata": {},
   "outputs": [],
   "source": [
    "with open('bilder.json') as fp:\n",
    "    bilder = json.load(fp)"
   ]
  },
  {
   "cell_type": "code",
   "execution_count": 95,
   "metadata": {},
   "outputs": [
    {
     "data": {
      "text/plain": [
       "{'@context': 'http://iiif.io/api/presentation/2/context.json',\n",
       " '@type': 'sc:Manifest',\n",
       " '@id': 'https://api.nb.no/catalog/v1/iiif/URN:NBN:no-nb_digimanus_77958/manifest{?fields,profile}',\n",
       " 'label': 'Brevs. 563 Brev fra Backer, Harriet (1845-1932) til Backer, Andreas (1830-)',\n",
       " 'metadata': [{'label': 'Tilgang', 'value': 'Tilgang for alle'},\n",
       "  {'label': 'Tittel',\n",
       "   'value': 'Brevs. 563 Brev fra Backer, Harriet (1845-1932) til Backer, Andreas (1830-)'},\n",
       "  {'label': 'Dato', 'value': '01.01.1910'},\n",
       "  {'label': 'Andre opplysninger',\n",
       "   'value': 'Udatert kladd. NBdigital: DokID: 77958.\\n'},\n",
       "  {'label': 'Kilde for metadata', 'value': 'hanske.nb.no (77958)'},\n",
       "  {'label': 'Medietype', 'value': 'Brev og manuskripter'},\n",
       "  {'label': 'Varig lenke',\n",
       "   'value': '<a href=\"https://urn.nb.no/URN:NBN:no-nb_digimanus_77958\" target=\"_blank\">https://urn.nb.no/URN:NBN:no-nb_digimanus_77958</a>'},\n",
       "  {'label': '',\n",
       "   'value': '<a href=\"https://www.nb.no/items/209386370072264926bbf3d190d3522f?manifest=https://api.nb.no/catalog/v1/iiif/209386370072264926bbf3d190d3522f/manifest\" target=\"_blank\"><img src=\"https://www.nb.no/content/uploads/2018/08/logo-iiif.png\" alt=\"IIIF Drag-n-drop\"></a>'}],\n",
       " 'license': 'https://www.nb.no/lisens/ccbyncnd',\n",
       " 'attribution': '<span>Du kan dele, kopiere, distribuere og spre dette verket så lenge du krediterer opphavspersonen korrekt og ikke bruker verket kommersielt. Dersom du remixer, bearbeider eller bygger på verket, kan du ikke distribuere det endrede materialet.<br/><br/><img src=\"https://static.nb.no/images/license/ccbyncnd_88x31.png\"/></span>',\n",
       " 'thumbnail': {'@id': 'https://www.nb.no/services/image/resolver/URN:NBN:no-nb_digimanus_77958_0001/full/0,200/0/native.jpg',\n",
       "  '@type': 'dctypes:Image',\n",
       "  'format': 'image/jpeg',\n",
       "  'service': {'@context': 'http://iiif.io/api/image/2/context.json',\n",
       "   '@id': 'https://www.nb.no/services/image/resolver/URN:NBN:no-nb_digimanus_77958_0001',\n",
       "   'protocol': 'http://iiif.io/api/image',\n",
       "   'profile': 'http://iiif.io/api/image/2/level1.json'}},\n",
       " 'sequences': [{'@id': 'https://api.nb.no/catalog/v1/iiif/URN:NBN:no-nb_digimanus_77958/sequence/normal',\n",
       "   '@type': 'sc:Sequence',\n",
       "   'label': 'Current Page Order',\n",
       "   'viewingHint': 'paged',\n",
       "   'rendering': [{'@id': 'https://www.nb.no/services/downloader?urn=URN:NBN:no-nb_digimanus_77958',\n",
       "     'format': 'application/pdf',\n",
       "     'label': 'Last ned som PDF'}],\n",
       "   'canvases': [{'@id': 'https://api.nb.no/catalog/v1/iiif/URN:NBN:no-nb_digimanus_77958/canvas/URN:NBN:no-nb_digimanus_77958_0001',\n",
       "     '@type': 'sc:Canvas',\n",
       "     '@seeAlso': {'@id': 'https://api.nb.no:443/catalog/v1/metadata/URN:NBN:no-nb_digimanus_77958/altos/URN:NBN:no-nb_digimanus_77958_0001',\n",
       "      'format': 'application/alto+xml',\n",
       "      'profile': 'http://www.loc.gov/standards/alto'},\n",
       "     'label': '1',\n",
       "     'height': 3079,\n",
       "     'width': 2062,\n",
       "     'images': [{'@id': 'https://api.nb.no/catalog/v1/iiif/URN:NBN:no-nb_digimanus_77958/annotation/URN:NBN:no-nb_digimanus_77958_0001',\n",
       "       '@type': 'oa:Annotation',\n",
       "       'motivation': 'sc:painting',\n",
       "       'resource': {'@id': 'https://www.nb.no/services/image/resolver/URN:NBN:no-nb_digimanus_77958_0001/full/full/0/native.jpg',\n",
       "        '@type': 'dctypes:Image',\n",
       "        'format': 'image/jpeg',\n",
       "        'service': {'@context': 'http://iiif.io/api/image/2/context.json',\n",
       "         '@id': 'https://www.nb.no/services/image/resolver/URN:NBN:no-nb_digimanus_77958_0001',\n",
       "         'protocol': 'http://iiif.io/api/image',\n",
       "         'width': 2062,\n",
       "         'height': 3079,\n",
       "         'sizes': [{'width': 1031, 'height': 1539},\n",
       "          {'width': 515, 'height': 769},\n",
       "          {'width': 257, 'height': 384},\n",
       "          {'width': 128, 'height': 192},\n",
       "          {'width': 64, 'height': 96}],\n",
       "         'tiles': [{'width': 1024, 'scaleFactors': [1, 2, 4, 8, 16, 32]}],\n",
       "         'profile': 'http://iiif.io/api/image/2/level1.json',\n",
       "         'service': {'@context': 'http://iiif.io/api/annex/service/physdim/1/context.json',\n",
       "          'profile': 'http://iiif.io/api/annex/service/physdim',\n",
       "          'physicalScale': 0.0025,\n",
       "          'physicalUnits': 'in'}},\n",
       "        'height': 3079,\n",
       "        'width': 2062},\n",
       "       'on': 'https://api.nb.no/catalog/v1/iiif/URN:NBN:no-nb_digimanus_77958/canvas/URN:NBN:no-nb_digimanus_77958_0001'}]},\n",
       "    {'@id': 'https://api.nb.no/catalog/v1/iiif/URN:NBN:no-nb_digimanus_77958/canvas/URN:NBN:no-nb_digimanus_77958_0002',\n",
       "     '@type': 'sc:Canvas',\n",
       "     '@seeAlso': {'@id': 'https://api.nb.no:443/catalog/v1/metadata/URN:NBN:no-nb_digimanus_77958/altos/URN:NBN:no-nb_digimanus_77958_0002',\n",
       "      'format': 'application/alto+xml',\n",
       "      'profile': 'http://www.loc.gov/standards/alto'},\n",
       "     'label': '2',\n",
       "     'height': 3079,\n",
       "     'width': 2062,\n",
       "     'images': [{'@id': 'https://api.nb.no/catalog/v1/iiif/URN:NBN:no-nb_digimanus_77958/annotation/URN:NBN:no-nb_digimanus_77958_0002',\n",
       "       '@type': 'oa:Annotation',\n",
       "       'motivation': 'sc:painting',\n",
       "       'resource': {'@id': 'https://www.nb.no/services/image/resolver/URN:NBN:no-nb_digimanus_77958_0002/full/full/0/native.jpg',\n",
       "        '@type': 'dctypes:Image',\n",
       "        'format': 'image/jpeg',\n",
       "        'service': {'@context': 'http://iiif.io/api/image/2/context.json',\n",
       "         '@id': 'https://www.nb.no/services/image/resolver/URN:NBN:no-nb_digimanus_77958_0002',\n",
       "         'protocol': 'http://iiif.io/api/image',\n",
       "         'width': 2062,\n",
       "         'height': 3079,\n",
       "         'sizes': [{'width': 1031, 'height': 1539},\n",
       "          {'width': 515, 'height': 769},\n",
       "          {'width': 257, 'height': 384},\n",
       "          {'width': 128, 'height': 192},\n",
       "          {'width': 64, 'height': 96}],\n",
       "         'tiles': [{'width': 1024, 'scaleFactors': [1, 2, 4, 8, 16, 32]}],\n",
       "         'profile': 'http://iiif.io/api/image/2/level1.json',\n",
       "         'service': {'@context': 'http://iiif.io/api/annex/service/physdim/1/context.json',\n",
       "          'profile': 'http://iiif.io/api/annex/service/physdim',\n",
       "          'physicalScale': 0.0025,\n",
       "          'physicalUnits': 'in'}},\n",
       "        'height': 3079,\n",
       "        'width': 2062},\n",
       "       'on': 'https://api.nb.no/catalog/v1/iiif/URN:NBN:no-nb_digimanus_77958/canvas/URN:NBN:no-nb_digimanus_77958_0002'}]}]}]}"
      ]
     },
     "execution_count": 95,
     "metadata": {},
     "output_type": "execute_result"
    }
   ],
   "source": [
    "pic.iiif_manifest(list(bilder.keys())[4])"
   ]
  },
  {
   "cell_type": "code",
   "execution_count": 100,
   "metadata": {},
   "outputs": [],
   "source": [
    "pic.get_picture_from_url(bilder['URN:NBN:no-nb_digimanus_326898'][0]).save('t.jpg')"
   ]
  }
 ],
 "metadata": {
  "kernelspec": {
   "display_name": "Python 3",
   "language": "python",
   "name": "python3"
  },
  "language_info": {
   "codemirror_mode": {
    "name": "ipython",
    "version": 3
   },
   "file_extension": ".py",
   "mimetype": "text/x-python",
   "name": "python",
   "nbconvert_exporter": "python",
   "pygments_lexer": "ipython3",
   "version": "3.7.6"
  }
 },
 "nbformat": 4,
 "nbformat_minor": 4
}
