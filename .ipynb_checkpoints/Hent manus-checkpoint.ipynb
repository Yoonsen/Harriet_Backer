{
 "cells": [
  {
   "cell_type": "markdown",
   "metadata": {},
   "source": [
    "# Hent bilder for Harriet Backer (eller andre)\n",
    "\n",
    "Bruker iiif-manifest, som gir alle bildene, sammen med search for bokhylla. Dataene fra den her notebooken er lagret til en fil (se nedenfor) så om det ikke endres noe kan dataene hentes fra den."
   ]
  },
  {
   "cell_type": "code",
   "execution_count": 16,
   "metadata": {},
   "outputs": [],
   "source": [
    "import dhlab.nbtext as nb\n",
    "import dhlab.module_update as mu\n",
    "import pandas as pd\n",
    "import json\n",
    "import os"
   ]
  },
  {
   "cell_type": "code",
   "execution_count": 2,
   "metadata": {},
   "outputs": [
    {
     "data": {
      "text/html": [
       "<style>@import url(\n",
       "http://fonts.googleapis.com/css?family=Lato|Philosopher|Montserrat|Source+Code+Pro|Istok+Web|Philosopher|Assistant:200,400,700);\n",
       "\n",
       "/*\n",
       "#notebook-container {\n",
       "\t-webkit-box-shadow: none;\n",
       "\tbox-shadow: none;\n",
       "}\n",
       "*/\n",
       "\n",
       "h1, h2, h3, h4, h5, h6 {\n",
       "\tfont-family: 'Montserrat', sans-serif;\n",
       "\tline-height: 2em;\n",
       "    color: #004f99;\n",
       "    font-weight: 600;\n",
       "}\n",
       "\n",
       "h1 { font-size: 4.5em; }\n",
       "h2 { font-size: 4em; }\n",
       "h3 { font-size: 3.5em; }\n",
       "h4 { font-size: 3em; }\n",
       "h5 { font-size: 2.5em; color:DarkSlateGray; }\n",
       "h6 { font-size: 2em; }\n",
       "\n",
       "p {\n",
       "\tfont-family: 'Assistant', sans-serif; \n",
       "\tfont-size: 1.2em;\n",
       "\tline-height: 1.4em;\n",
       "\tcolor: black;\n",
       "}\n",
       "p code {\n",
       "\tfont-size:0.9em;\n",
       "}\n",
       "div.input_area {\n",
       "\tborder:none !important;\n",
       "\tborder-left:1px solid #ff851b !important\n",
       "}\n",
       "\n",
       "span.cm-keyword {\n",
       "\tcolor:#339966 !important;\n",
       "}\n",
       "span.nn {  /*span.cm-variable, span.cm-property*/\n",
       "\tcolor: #3399ff !important;\n",
       "}\n",
       "div.CodeMirror {\n",
       "\tfont-family: 'Inconsolata', monospace;\n",
       "\tfont-size: 1.1em;\n",
       "\t\n",
       "}\n",
       "</style>"
      ],
      "text/plain": [
       "<IPython.core.display.HTML object>"
      ]
     },
     "execution_count": 2,
     "metadata": {},
     "output_type": "execute_result"
    }
   ],
   "source": [
    "mu.css()"
   ]
  },
  {
   "cell_type": "code",
   "execution_count": 3,
   "metadata": {},
   "outputs": [],
   "source": [
    "#mu.update('nbpictures', silent=True)\n",
    "import nbpictures as pic\n",
    "from nbpictures import save_pictures, save_all_pages"
   ]
  },
  {
   "cell_type": "markdown",
   "metadata": {},
   "source": [
    "Hent referanse til alle bildene. Funksjonen `find_urn_sesam` henter URNer (som sesamid), som kan gis til `iiif_manifest` for å få tak i metadata og bildereferanser."
   ]
  },
  {
   "cell_type": "code",
   "execution_count": 13,
   "metadata": {},
   "outputs": [
    {
     "name": "stdout",
     "output_type": "stream",
     "text": [
      "antall sider: 23\n",
      "antall urner/dokumenter: 595\n"
     ]
    }
   ],
   "source": [
    "urns = pic.find_urns_sesam(creator = 'Harriet Backer', page = 0, mediatype='privatarkivmateriale')\n",
    "for i in range(1,100):\n",
    "    t = pic.find_urns_sesam(creator = 'Harriet Backer', page = i, mediatype = 'privatarkivmateriale')\n",
    "    if t == []:\n",
    "        print('antall sider:', i)\n",
    "        break\n",
    "    else:\n",
    "        urns += t\n",
    "print('antall urner/dokumenter:', len(urns))"
   ]
  },
  {
   "cell_type": "markdown",
   "metadata": {},
   "source": [
    "Med `iiif_manifest` kommer metadata."
   ]
  },
  {
   "cell_type": "code",
   "execution_count": 14,
   "metadata": {},
   "outputs": [],
   "source": [
    "pages = dict()\n",
    "for urn in urns:\n",
    "    x = pic.iiif_manifest(urn)\n",
    "    pages[urn] = [page['images'][0]['resource']['@id'] for page in x['sequences'][0]['canvases']]"
   ]
  },
  {
   "cell_type": "markdown",
   "metadata": {},
   "source": [
    "Lagre bildene til fil som en json-struktur"
   ]
  },
  {
   "cell_type": "code",
   "execution_count": 15,
   "metadata": {},
   "outputs": [],
   "source": [
    "with open('bilder_sesam.json', 'w') as fp:\n",
    "    json.dump(pages, fp)"
   ]
  },
  {
   "cell_type": "markdown",
   "metadata": {},
   "source": [
    "## Filtrering av data med metadata\n",
    "\n",
    "For videre filtrering kan`iiif_manifest` kjøres på nøklene i bildefilen. Så her er `bilder` akkurat det samme som `pages`."
   ]
  },
  {
   "cell_type": "code",
   "execution_count": 9,
   "metadata": {},
   "outputs": [],
   "source": [
    "with open('bilder_sesam.json') as fp:\n",
    "    bilder = json.load(fp)"
   ]
  },
  {
   "cell_type": "code",
   "execution_count": 10,
   "metadata": {},
   "outputs": [
    {
     "data": {
      "text/plain": [
       "{'@context': 'http://iiif.io/api/presentation/2/context.json',\n",
       " '@type': 'sc:Manifest',\n",
       " '@id': 'https://api.nb.no/catalog/v1/iiif/9ea15a80f605912fa03d34584004d522/manifest{?fields,profile}',\n",
       " 'label': 'Brevs. 278 Brev fra Backer, Harriet (1845-1932) til Jorde, Lars (1865-1939)',\n",
       " 'metadata': [{'label': 'Tilgang', 'value': 'Tilgang for alle'},\n",
       "  {'label': 'Tittel',\n",
       "   'value': 'Brevs. 278 Brev fra Backer, Harriet (1845-1932) til Jorde, Lars (1865-1939)'},\n",
       "  {'label': 'Dato', 'value': '11.06.1918'},\n",
       "  {'label': 'Andre opplysninger', 'value': 'NBdigital: DokID: 81208.\\n'},\n",
       "  {'label': 'Kilde for metadata', 'value': 'hanske.nb.no (81208)'},\n",
       "  {'label': 'Medietype', 'value': 'Brev og manuskripter'},\n",
       "  {'label': 'Varig lenke',\n",
       "   'value': '<a href=\"https://urn.nb.no/URN:NBN:no-nb_digimanus_81208\" target=\"_blank\">https://urn.nb.no/URN:NBN:no-nb_digimanus_81208</a>'},\n",
       "  {'label': '',\n",
       "   'value': '<a href=\"https://www.nb.no/items/9ea15a80f605912fa03d34584004d522?manifest=https://api.nb.no/catalog/v1/iiif/9ea15a80f605912fa03d34584004d522/manifest\" target=\"_blank\"><img src=\"https://www.nb.no/content/uploads/2018/08/logo-iiif.png\" alt=\"IIIF Drag-n-drop\"></a>'}],\n",
       " 'license': 'https://www.nb.no/lisens/ccbyncnd',\n",
       " 'attribution': '<span>Du kan dele, kopiere, distribuere og spre dette verket så lenge du krediterer opphavspersonen korrekt og ikke bruker verket kommersielt. Dersom du remixer, bearbeider eller bygger på verket, kan du ikke distribuere det endrede materialet.<br/><br/><img src=\"https://static.nb.no/images/license/ccbyncnd_88x31.png\"/></span>',\n",
       " 'thumbnail': {'@id': 'https://www.nb.no/services/image/resolver/URN:NBN:no-nb_digimanus_81208_0001/full/0,200/0/native.jpg',\n",
       "  '@type': 'dctypes:Image',\n",
       "  'format': 'image/jpeg',\n",
       "  'service': {'@context': 'http://iiif.io/api/image/2/context.json',\n",
       "   '@id': 'https://www.nb.no/services/image/resolver/URN:NBN:no-nb_digimanus_81208_0001',\n",
       "   'protocol': 'http://iiif.io/api/image',\n",
       "   'profile': 'http://iiif.io/api/image/2/level1.json'}},\n",
       " 'sequences': [{'@id': 'https://api.nb.no/catalog/v1/iiif/9ea15a80f605912fa03d34584004d522/sequence/normal',\n",
       "   '@type': 'sc:Sequence',\n",
       "   'label': 'Current Page Order',\n",
       "   'viewingHint': 'paged',\n",
       "   'rendering': [{'@id': 'https://www.nb.no/services/downloader?urn=URN:NBN:no-nb_digimanus_81208',\n",
       "     'format': 'application/pdf',\n",
       "     'label': 'Last ned som PDF'}],\n",
       "   'canvases': [{'@id': 'https://api.nb.no/catalog/v1/iiif/9ea15a80f605912fa03d34584004d522/canvas/URN:NBN:no-nb_digimanus_81208_0001',\n",
       "     '@type': 'sc:Canvas',\n",
       "     '@seeAlso': {'@id': 'https://api.nb.no:443/catalog/v1/metadata/9ea15a80f605912fa03d34584004d522/altos/URN:NBN:no-nb_digimanus_81208_0001',\n",
       "      'format': 'application/alto+xml',\n",
       "      'profile': 'http://www.loc.gov/standards/alto'},\n",
       "     'label': '1',\n",
       "     'height': 3040,\n",
       "     'width': 4545,\n",
       "     'images': [{'@id': 'https://api.nb.no/catalog/v1/iiif/9ea15a80f605912fa03d34584004d522/annotation/URN:NBN:no-nb_digimanus_81208_0001',\n",
       "       '@type': 'oa:Annotation',\n",
       "       'motivation': 'sc:painting',\n",
       "       'resource': {'@id': 'https://www.nb.no/services/image/resolver/URN:NBN:no-nb_digimanus_81208_0001/full/full/0/native.jpg',\n",
       "        '@type': 'dctypes:Image',\n",
       "        'format': 'image/jpeg',\n",
       "        'service': {'@context': 'http://iiif.io/api/image/2/context.json',\n",
       "         '@id': 'https://www.nb.no/services/image/resolver/URN:NBN:no-nb_digimanus_81208_0001',\n",
       "         'protocol': 'http://iiif.io/api/image',\n",
       "         'width': 4545,\n",
       "         'height': 3040,\n",
       "         'sizes': [{'width': 2272, 'height': 1520},\n",
       "          {'width': 1136, 'height': 760},\n",
       "          {'width': 568, 'height': 380},\n",
       "          {'width': 284, 'height': 190},\n",
       "          {'width': 142, 'height': 95}],\n",
       "         'tiles': [{'width': 1024, 'scaleFactors': [1, 2, 4, 8, 16, 32]}],\n",
       "         'profile': 'http://iiif.io/api/image/2/level1.json',\n",
       "         'service': {'@context': 'http://iiif.io/api/annex/service/physdim/1/context.json',\n",
       "          'profile': 'http://iiif.io/api/annex/service/physdim',\n",
       "          'physicalScale': 0.0025,\n",
       "          'physicalUnits': 'in'}},\n",
       "        'height': 3040,\n",
       "        'width': 4545},\n",
       "       'on': 'https://api.nb.no/catalog/v1/iiif/9ea15a80f605912fa03d34584004d522/canvas/URN:NBN:no-nb_digimanus_81208_0001'}]}]}]}"
      ]
     },
     "execution_count": 10,
     "metadata": {},
     "output_type": "execute_result"
    }
   ],
   "source": [
    "pic.iiif_manifest(list(bilder.keys())[4])"
   ]
  },
  {
   "cell_type": "code",
   "execution_count": 21,
   "metadata": {},
   "outputs": [
    {
     "data": {
      "text/plain": [
       "'9ea15a80f605912fa03d34584004d522'"
      ]
     },
     "execution_count": 21,
     "metadata": {},
     "output_type": "execute_result"
    }
   ],
   "source": [
    "list(bilder.keys())[4]"
   ]
  },
  {
   "cell_type": "code",
   "execution_count": 40,
   "metadata": {},
   "outputs": [
    {
     "data": {
      "text/plain": [
       "True"
      ]
     },
     "execution_count": 40,
     "metadata": {},
     "output_type": "execute_result"
    }
   ],
   "source": [
    "save_pictures(bilder, list(bilder.keys())[105], root='..\\..\\Handskrift')"
   ]
  }
 ],
 "metadata": {
  "kernelspec": {
   "display_name": "Python 3",
   "language": "python",
   "name": "python3"
  },
  "language_info": {
   "codemirror_mode": {
    "name": "ipython",
    "version": 3
   },
   "file_extension": ".py",
   "mimetype": "text/x-python",
   "name": "python",
   "nbconvert_exporter": "python",
   "pygments_lexer": "ipython3",
   "version": "3.7.6"
  }
 },
 "nbformat": 4,
 "nbformat_minor": 4
}
